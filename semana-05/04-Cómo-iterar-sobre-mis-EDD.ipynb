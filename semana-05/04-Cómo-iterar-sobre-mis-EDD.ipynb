{
 "cells": [
  {
   "cell_type": "markdown",
   "metadata": {},
   "source": [
    "<p>\n",
    "<font size='5' face='Georgia, Arial'>IIC-2233 Apunte Programación Avanzada</font><br>\n",
    "<font size='1'> Creado en 2017-2 por Equipo Docente IIC2233</font>\n",
    "</p>\n",
    "\n",
    "# ¿Cómo iterar sobre mis propias estructuras de datos? \n",
    "\n",
    "Hasta ahora hemos visto como implementar varios métodos de árboles, listas ligadas y grafos. Sin embargo, no hemos visto cómo recorrer estas estructuras utilizando `for`, como lo haríamos con una lista. Para esto hay que entender dos conceptos claves: iterable e iterador.\n",
    "\n",
    "Un **iterable** es cualquier objeto sobre el cual se puede iterar. Por lo mismo, cualquier iterable podría aparecer al lado derecho de un _for loop_ (`for i in iterable:`). Un iterable contiene el método **`__iter__()`**. Se puede iterar todas las veces que uno quiera sobre un iterable, como en el caso de las listas por ejemplo. No es necesario que este objeto se pueda indexar. Por ejemplo los `set`s no se indexan, pero si podemos iterar sobre ellos."
   ]
  },
  {
   "cell_type": "code",
   "execution_count": 1,
   "metadata": {},
   "outputs": [
    {
     "name": "stdout",
     "output_type": "stream",
     "text": [
      "1\n",
      "3\n",
      "4\n",
      "6\n"
     ]
    }
   ],
   "source": [
    "conjunto = {1, 3, 4, 6}\n",
    "\n",
    "for i in conjunto:\n",
    "    print(i)"
   ]
  },
  {
   "cell_type": "markdown",
   "metadata": {},
   "source": [
    "Un **iterador** es un objeto que itera sobre un iterable, y es el objeto retornado por el método `__iter__()`. Además, contiene el método `__next__()` que nos retorna el siguiente elemento (uno a la vez).\n",
    "\n",
    "Recuerden \n",
    "\n",
    "> Un iterable debe tener el método `__iter__` implementado, y debe retornar **siempre** un iterador. Por su parte, un iterador es un objeto que tiene el método `__next__` implementado, es decir puedo hacer `next(objeto)` y esto retornará un **valor**.\n",
    "\n",
    "Hay (al menos) dos formas de implementar estos métodos en sus clases. Por ahora solo les enseñaremos una. Cuando vemamos Programación Funcional les mostraremos la otra forma.\n",
    "\n",
    "### Datos\n",
    "Primero generaremos datos con los que vamos a trabajar."
   ]
  },
  {
   "cell_type": "code",
   "execution_count": 2,
   "metadata": {},
   "outputs": [
    {
     "name": "stdout",
     "output_type": "stream",
     "text": [
      "1 - 2 - 3 - 4 - 5 - end\n"
     ]
    }
   ],
   "source": [
    "class Nodo:\n",
    "    \n",
    "    def __init__(self, valor, siguiente):\n",
    "        self.valor = valor\n",
    "        self.siguiente = siguiente\n",
    "    \n",
    "    def __repr__(self):\n",
    "        return \"{} - {}\".format(self.valor, self.siguiente if self.siguiente else \"end\")\n",
    "\n",
    "\n",
    "datos = Nodo(1, Nodo(2, Nodo(3, Nodo(4, Nodo(5, None)))))\n",
    "print(datos)"
   ]
  },
  {
   "cell_type": "markdown",
   "metadata": {},
   "source": [
    "Primero debemos crear la clase `Iterable` que implementará el método `__iter__`. "
   ]
  },
  {
   "cell_type": "code",
   "execution_count": 3,
   "metadata": {
    "collapsed": true
   },
   "outputs": [],
   "source": [
    "class Iterable:\n",
    "    \n",
    "    def __init__(self, objeto):\n",
    "        self.objeto = objeto\n",
    "    \n",
    "    def __iter__(self):\n",
    "        return Iterador(self.objeto)"
   ]
  },
  {
   "cell_type": "markdown",
   "metadata": {},
   "source": [
    "Ahora creamos la clase `Iterador` que será la encargada de iterar sobre el iterable. Ésta debe implementar el método `__next__` que retornará los valores.\n",
    "\n",
    "El método `__iter__` sólo debe retornar `self`. Es posible no implementarlo. En ese caso, deberán primero obtener el iterador del iterable (`iter(iterable)`) y luego podrán usar ese iterador en sus ciclos `for` y `while`. \n",
    "\n",
    "El iterador no se puede reiniciar."
   ]
  },
  {
   "cell_type": "code",
   "execution_count": 4,
   "metadata": {
    "collapsed": true
   },
   "outputs": [],
   "source": [
    "class Iterador:\n",
    "    \n",
    "    def __init__(self, iterable):\n",
    "        self.iterable = iterable\n",
    "    \n",
    "    def __iter__(self): \n",
    "        return self\n",
    "    \n",
    "    def __next__(self):\n",
    "        if self.iterable is None:\n",
    "            raise StopIteration(\"Llegamos al final\")\n",
    "        else:           \n",
    "            to_return = self.iterable\n",
    "            self.iterable = self.iterable.siguiente\n",
    "            return to_return    "
   ]
  },
  {
   "cell_type": "code",
   "execution_count": 5,
   "metadata": {},
   "outputs": [
    {
     "name": "stdout",
     "output_type": "stream",
     "text": [
      "1 - 2 - 3 - 4 - 5 - end\n",
      "2 - 3 - 4 - 5 - end\n",
      "3 - 4 - 5 - end\n",
      "4 - 5 - end\n",
      "5 - end\n"
     ]
    }
   ],
   "source": [
    "iterable = Iterable(datos)\n",
    "for i in iterable:\n",
    "    print(i)"
   ]
  },
  {
   "cell_type": "markdown",
   "metadata": {},
   "source": [
    "Esto sería obligatorio si es que no implementan el método `__iter__` en el iterable:"
   ]
  },
  {
   "cell_type": "code",
   "execution_count": 6,
   "metadata": {},
   "outputs": [
    {
     "name": "stdout",
     "output_type": "stream",
     "text": [
      "1 - 2 - 3 - 4 - 5 - end\n",
      "2 - 3 - 4 - 5 - end\n",
      "3 - 4 - 5 - end\n",
      "4 - 5 - end\n",
      "5 - end\n"
     ]
    }
   ],
   "source": [
    "iterable = Iterable(datos)\n",
    "iterator = iter(iterable) # Obtener el iterador\n",
    "for i in iterator: # Iterar con el iterador\n",
    "    print(i)"
   ]
  },
  {
   "cell_type": "markdown",
   "metadata": {},
   "source": [
    "Si paramos la iteración:"
   ]
  },
  {
   "cell_type": "code",
   "execution_count": 7,
   "metadata": {},
   "outputs": [
    {
     "name": "stdout",
     "output_type": "stream",
     "text": [
      "1 - 2 - 3 - 4 - 5 - end\n",
      "2 - 3 - 4 - 5 - end\n",
      "3 - 4 - 5 - end\n"
     ]
    }
   ],
   "source": [
    "iterable = Iterable(datos)\n",
    "iterator = iter(iterable)\n",
    "for i in iterator:\n",
    "    print(i)\n",
    "    if i.valor >= 3:\n",
    "        break"
   ]
  },
  {
   "cell_type": "markdown",
   "metadata": {},
   "source": [
    "Podemos volver a empezar **obteniendo otro iterador**."
   ]
  },
  {
   "cell_type": "code",
   "execution_count": 8,
   "metadata": {},
   "outputs": [
    {
     "name": "stdout",
     "output_type": "stream",
     "text": [
      "1 - 2 - 3 - 4 - 5 - end\n",
      "2 - 3 - 4 - 5 - end\n",
      "3 - 4 - 5 - end\n",
      "4 - 5 - end\n",
      "5 - end\n"
     ]
    }
   ],
   "source": [
    "for i in iterable:\n",
    "    print(i)"
   ]
  },
  {
   "cell_type": "markdown",
   "metadata": {},
   "source": [
    "Cada iterador tiene su propia memoria que no depende del iterable"
   ]
  },
  {
   "cell_type": "code",
   "execution_count": 9,
   "metadata": {},
   "outputs": [
    {
     "name": "stdout",
     "output_type": "stream",
     "text": [
      "4 - 5 - end\n",
      "5 - end\n"
     ]
    }
   ],
   "source": [
    "for i in iterator:\n",
    "    print(i)"
   ]
  },
  {
   "cell_type": "code",
   "execution_count": 10,
   "metadata": {
    "collapsed": true
   },
   "outputs": [],
   "source": [
    "for i in iterator: # Ya usamos este iterador para recorrer el iterable. No lo podemos utilizar de nuevo.\n",
    "    print(i)"
   ]
  },
  {
   "cell_type": "code",
   "execution_count": 11,
   "metadata": {},
   "outputs": [
    {
     "name": "stdout",
     "output_type": "stream",
     "text": [
      "1 - 2 - 3 - 4 - 5 - end\n",
      "2 - 3 - 4 - 5 - end\n",
      "3 - 4 - 5 - end\n",
      "4 - 5 - end\n",
      "5 - end\n"
     ]
    }
   ],
   "source": [
    "for i in iterable: # Pero si podemos pedirle al iterable un nuevo iterador\n",
    "    print(i)"
   ]
  }
 ],
 "metadata": {
  "kernelspec": {
   "display_name": "Python 3",
   "language": "python",
   "name": "python3"
  },
  "language_info": {
   "codemirror_mode": {
    "name": "ipython",
    "version": 3
   },
   "file_extension": ".py",
   "mimetype": "text/x-python",
   "name": "python",
   "nbconvert_exporter": "python",
   "pygments_lexer": "ipython3",
   "version": "3.6.2"
  }
 },
 "nbformat": 4,
 "nbformat_minor": 2
}
